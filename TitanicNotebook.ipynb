{
 "cells": [
  {
   "cell_type": "code",
   "execution_count": 1,
   "metadata": {
    "_cell_guid": "b1076dfc-b9ad-4769-8c92-a6c4dae69d19",
    "_uuid": "8f2839f25d086af736a60e9eeb907d3b93b6e0e5"
   },
   "outputs": [],
   "source": [
    "# This Python 3 environment comes with many helpful analytics libraries installed\n",
    "# It is defined by the kaggle/python Docker image: https://github.com/kaggle/docker-python\n",
    "# For example, here's several helpful packages to load\n",
    "\n",
    "import numpy as np # linear algebra\n",
    "import pandas as pd # data processing, CSV file I/O (e.g. pd.read_csv)\n",
    "import matplotlib.pyplot as plt\n",
    "import math\n",
    "import re\n",
    "import seaborn as sns\n",
    "\n",
    "# Input data files are available in the read-only \"../input/\" directory\n",
    "# For example, running this (by clicking run or pressing Shift+Enter) will list all files under the input directory\n",
    "\n",
    "import os\n",
    "for dirname, _, filenames in os.walk('/kaggle/input'):\n",
    "    for filename in filenames:\n",
    "        print(os.path.join(dirname, filename))\n",
    "\n",
    "# You can write up to 5GB to the current directory (/kaggle/working/) that gets preserved as output when you create a version using \"Save & Run All\" \n",
    "# You can also write temporary files to /kaggle/temp/, but they won't be saved outside of the current session"
   ]
  },
  {
   "cell_type": "markdown",
   "metadata": {},
   "source": [
    "## Helper functions. The sigmoid and relu functions are used for forward prop, while the sigmoid_grad and relu_grad are used for backprop."
   ]
  },
  {
   "cell_type": "code",
   "execution_count": 2,
   "metadata": {},
   "outputs": [],
   "source": [
    "def sigmoid(z):\n",
    "    return 1 / (1 + np.exp(-z))\n",
    "\n",
    "def relu(z):\n",
    "    return np.maximum(0, z)\n",
    "\n",
    "def sigmoid_grad(dA, Z):\n",
    "    return dA * sigmoid(Z) * (1-sigmoid(Z))\n",
    "\n",
    "def relu_grad(dA, Z):\n",
    "    dZ = np.array(dA, copy=True)\n",
    "    dZ[Z <= 0] = 0\n",
    "    return dZ"
   ]
  },
  {
   "cell_type": "markdown",
   "metadata": {},
   "source": [
    "## Another helper function, used by the processing unit to extract titles from names\n",
    "\n",
    "This function uses regex to extract titles (the word which ends in '.') from the name column of the dataset"
   ]
  },
  {
   "cell_type": "code",
   "execution_count": 3,
   "metadata": {},
   "outputs": [],
   "source": [
    "def get_title(name):\n",
    "    title_search = re.search(' ([A-Za-z]+)\\.', name)\n",
    "    # If the title exists, extract and return it.\n",
    "    if title_search:\n",
    "        return title_search.group(1)\n",
    "    return \"\""
   ]
  },
  {
   "cell_type": "markdown",
   "metadata": {},
   "source": [
    "## Data processing function: Getting rid of the unwanted data, and normalizing features\n",
    "\n",
    "The commented code was used earlier for visualization purposes"
   ]
  },
  {
   "cell_type": "code",
   "execution_count": 4,
   "metadata": {},
   "outputs": [],
   "source": [
    "def visualize_data(data):\n",
    "    fig, ((ax1, ax2), (ax3, ax4)) = plt.subplots(2, 2)\n",
    "    titles = {}\n",
    "    survived_arr = []\n",
    "    dead_arr = []\n",
    "    \n",
    "    for index, title in data[\"Title\"].iteritems():\n",
    "        if title not in titles:\n",
    "            titles[title] = 1\n",
    "        else:\n",
    "            titles[title] += 1\n",
    "            \n",
    "    x = np.arange(len(titles))\n",
    "    \n",
    "    for title in titles:\n",
    "        survived = np.sum((data[\"Survived\"] == 1) & (data[\"Title\"] == title))\n",
    "        dead = titles[title] - survived\n",
    "        survived_arr.append(survived)\n",
    "        dead_arr.append(dead)\n",
    "    \n",
    "    \n",
    "    rects1 = ax1.bar(x - 0.15, survived_arr, 0.3, label=\"Survived\")\n",
    "    rects2 = ax1.bar(x + 0.15, dead_arr, 0.3, label=\"Dead\")\n",
    "    ax1.set_xticks(x)\n",
    "    ax1.set_xticklabels(titles)\n",
    "    ax1.legend()\n",
    "    \n",
    "    def autolabel(rects, ax):\n",
    "        \"\"\"Attach a text label above each bar in *rects*, displaying its height.\"\"\"\n",
    "        for rect in rects:\n",
    "            height = rect.get_height()\n",
    "            ax.annotate('{}'.format(height),\n",
    "                        xy=(rect.get_x() + rect.get_width() / 2, height),\n",
    "                        xytext=(0, 3),  # 3 points vertical offset\n",
    "                        textcoords=\"offset points\",\n",
    "                        ha='center', va='bottom')\n",
    "\n",
    "\n",
    "    autolabel(rects1, ax1)\n",
    "    autolabel(rects2, ax1)\n",
    "    \n",
    "    ages = {}\n",
    "    survived_arr = []\n",
    "    dead_arr = []\n",
    "    \n",
    "    for index, age in data[\"Age_bin\"].iteritems():\n",
    "        if age not in ages:\n",
    "            ages[age] = 1\n",
    "        else:\n",
    "            ages[age] += 1\n",
    "            \n",
    "    x = np.arange(len(ages))\n",
    "    \n",
    "    for age in ages:\n",
    "        survived = np.sum((data[\"Survived\"] == 1) & (data[\"Age_bin\"] == age))\n",
    "        dead = ages[age] - survived\n",
    "        survived_arr.append(survived)\n",
    "        dead_arr.append(dead)\n",
    "        \n",
    "    rects1 = ax2.bar(x - 0.15, survived_arr, 0.3, label=\"Survived\")\n",
    "    rects2 = ax2.bar(x + 0.15, dead_arr, 0.3, label=\"Dead\")\n",
    "    ax2.set_xticks(x)\n",
    "    ax2.set_xticklabels(ages)\n",
    "    ax2.legend()\n",
    "    \n",
    "    autolabel(rects1, ax2)\n",
    "    autolabel(rects2, ax2)\n",
    "    \n",
    "    sexes = {}\n",
    "    survived_arr = []\n",
    "    dead_arr = []\n",
    "    \n",
    "    for index, sex in data[\"Sex\"].iteritems():\n",
    "        if sex not in sexes:\n",
    "            sexes[sex] = 1\n",
    "        else:\n",
    "            sexes[sex] += 1\n",
    "            \n",
    "    x = np.arange(len(sexes))\n",
    "    sexes_arr = []\n",
    "    \n",
    "    for sex in sexes:\n",
    "        survived = np.sum((data[\"Survived\"] == 1) & (data[\"Sex\"] == sex))\n",
    "        dead = sexes[sex] - survived\n",
    "        if sex == 1: \n",
    "            sexes_arr.append(\"Male\")\n",
    "        else:\n",
    "            sexes_arr.append(\"Female\")\n",
    "        survived_arr.append(survived)\n",
    "        dead_arr.append(dead)\n",
    "        \n",
    "    rects1 = ax3.bar(x - 0.15, survived_arr, 0.3, label=\"Survived\")\n",
    "    rects2 = ax3.bar(x + 0.15, dead_arr, 0.3, label=\"Dead\")\n",
    "    ax3.set_xticks(x)\n",
    "    ax3.set_xticklabels(sexes_arr)\n",
    "    ax3.legend()\n",
    "    \n",
    "    autolabel(rects1, ax3)\n",
    "    autolabel(rects2, ax3)\n",
    "    \n",
    "    sns.heatmap(data.corr(), annot=True,cmap='RdYlGn',linewidths=0.2, ax=ax4)\n",
    "    \n",
    "    fig.set_size_inches(15, 15)\n",
    "    fig.tight_layout()\n",
    "    plt.show()\n",
    "    "
   ]
  },
  {
   "cell_type": "code",
   "execution_count": 5,
   "metadata": {
    "_cell_guid": "79c7e3d0-c299-4dcb-8224-4455121ee9b0",
    "_uuid": "d629ff2d2480ee46fbb7e2d37f6b5fab8052498a"
   },
   "outputs": [],
   "source": [
    "def process_Data(data, plot=False):\n",
    "    data = data.drop([\"Cabin\", \"Ticket\", \"PassengerId\"], axis=1)\n",
    "    data[\"Sex\"] = (data[\"Sex\"] == \"male\").astype(int)\n",
    "    for index, value in data[\"Embarked\"].iteritems():\n",
    "        if value == \"S\":\n",
    "            data.loc[index, \"Embarked\"] = 1\n",
    "        elif value == \"C\":\n",
    "            data.loc[index, \"Embarked\"] = 2\n",
    "        elif value == \"Q\":\n",
    "            data.loc[index, \"Embarked\"] = 3\n",
    "        else:\n",
    "            data.loc[index, \"Embarked\"] = 0\n",
    "    \n",
    "    # Filling the missing data using the median of the age and fare columns respectively: \n",
    "    data[\"Age\"] = data[\"Age\"].fillna(data[\"Age\"].median())\n",
    "    data[\"Fare\"] = data[\"Fare\"].fillna(data[\"Fare\"].median())\n",
    "    \n",
    "    # Splitting the ages and fares by categories\n",
    "    data['Age_bin'] = pd.cut(data['Age'], bins=[0,10,18,35,120], labels=['Children','Teenage','Adult','Elder'])\n",
    "    data['Fare_bin'] = pd.cut(data['Fare'], bins=[0,7.91,14.45,31,120], labels=['Low_fare','median_fare','Average_fare','high_fare'])\n",
    "    labels = np.array(data[\"Survived\"])\n",
    "    \n",
    "    data[\"Embarked\"].fillna(data[\"Embarked\"].mode()[0], inplace = True)\n",
    "    data[\"SibSp\"].fillna(data[\"SibSp\"].mean(skipna=True))\n",
    "    data[\"Parch\"].fillna(data[\"Parch\"].mean(skipna=True))\n",
    "    \n",
    "    # Engineering the family size\n",
    "    data[\"FamilySize\"] = data[\"SibSp\"] + data[\"Parch\"] + 1\n",
    "    \n",
    "    # Engineering the titles\n",
    "    data[\"Title\"] = data[\"Name\"].apply(get_title)\n",
    "    \n",
    "    if plot is True:\n",
    "        visualize_data(data)\n",
    "    \n",
    "    data[\"Title\"] = data[\"Title\"].replace([\"Lady\", \"Countess\", \"Sir\", \"Jonkheer\", \"Dona\", \"Don\"], \"Important\")\n",
    "    data[\"Title\"] = data[\"Title\"].replace([\"Capt\", \"Col\", \"Dr\", \"Major\", \"Rev\"], \"Officer\")    \n",
    "    data[\"Title\"] = data[\"Title\"].replace(\"Mlle\", \"Miss\")\n",
    "    data[\"Title\"] = data[\"Title\"].replace(\"Ms\", \"Miss\")\n",
    "    data[\"Title\"] = data[\"Title\"].replace(\"Mme\", \"Mrs\")\n",
    "    data = pd.get_dummies(data, columns=[\"Pclass\", \"Age_bin\", \"Fare_bin\", \"Title\"])\n",
    "    labels = np.array(data[\"Survived\"])\n",
    "    data = data.drop([\"Name\", \"SibSp\", \"Parch\", \"Survived\", \"Age\", \"Fare\"], axis=1)\n",
    "    \n",
    "    return np.array(data), labels"
   ]
  },
  {
   "cell_type": "markdown",
   "metadata": {},
   "source": [
    "### Following code will get the data and show a heatmap with corellations between the columns. Hopefully, the data won't be too corellated\n",
    "\n",
    "And besides the sex with the Mr. and Miss titles (which to be honest were obviously going to be corellated), and the sibsp and parch with the family size, which was engineered from those two, the data is pretty clean!"
   ]
  },
  {
   "cell_type": "code",
   "execution_count": 6,
   "metadata": {},
   "outputs": [
    {
     "data": {
      "image/png": "[encoded data removed]",
      "text/plain": [
       "<Figure size 1080x1080 with 5 Axes>"
      ]
     },
     "metadata": {
      "needs_background": "light"
     },
     "output_type": "display_data"
    }
   ],
   "source": [
    "data = pd.read_csv(\"input/train.csv\")\n",
    "data = data.sample(frac=1)\n",
    "data_train = data.head(700)\n",
    "data_cv = data.tail(190)\n",
    "X, Y = process_Data(data_train, True)\n",
    "X = X.T\n",
    "Y = Y.reshape((1, Y.shape[0]))"
   ]
  },
  {
   "cell_type": "markdown",
   "metadata": {},
   "source": [
    "### Now we get to the modeling! This function is used to initialize parameters for a deep neural network, with given layer dimensions"
   ]
  },
  {
   "cell_type": "code",
   "execution_count": 7,
   "metadata": {},
   "outputs": [],
   "source": [
    " def init_params(layers_dims):\n",
    "    parameters = {}\n",
    "    \n",
    "    L = len(layers_dims)\n",
    "    \n",
    "    for i in range(1, L):\n",
    "        parameters[\"W\" + str(i)] = np.random.randn(layers_dims[i], layers_dims[i - 1]) * np.sqrt(2 / layers_dims[i - 1])\n",
    "        parameters[\"b\" + str(i)] = np.zeros((layers_dims[i], 1))\n",
    "    \n",
    "    return parameters\n",
    "        "
   ]
  },
  {
   "cell_type": "markdown",
   "metadata": {},
   "source": [
    "Following functions are required by the forward model, which will pass through all the examples and do the forward propagation for all the examples in a batch"
   ]
  },
  {
   "cell_type": "code",
   "execution_count": 8,
   "metadata": {},
   "outputs": [],
   "source": [
    "def forward_step(A_prev, W, b):\n",
    "    Z = W.dot(A_prev) + b\n",
    "    cache = (A_prev, W, b)\n",
    "    return Z, cache"
   ]
  },
  {
   "cell_type": "code",
   "execution_count": 9,
   "metadata": {},
   "outputs": [],
   "source": [
    "def forward_activation_step(A_prev, W, b, activation: str):\n",
    "    Z, cache = forward_step(A_prev, W, b)\n",
    "    \n",
    "    if activation == \"sigmoid\":\n",
    "        A = sigmoid(Z)\n",
    "    else:\n",
    "        A = relu(Z)\n",
    "        \n",
    "    cache = Z, *cache\n",
    "    \n",
    "    return A, cache"
   ]
  },
  {
   "cell_type": "markdown",
   "metadata": {},
   "source": [
    "### Modeling the forward propagation for a whole batch of examples\n",
    "\n",
    "All layers are using relu activation, except the last one, which uses sigmoid activation to normalize the result in the [0, 1] range (or 0% - 100%)"
   ]
  },
  {
   "cell_type": "code",
   "execution_count": 10,
   "metadata": {},
   "outputs": [],
   "source": [
    "def forward_model(X, parameters):\n",
    "    caches = []\n",
    "    \n",
    "    A = X\n",
    "    L = len(parameters) // 2\n",
    "    \n",
    "    for l in range(1, L):\n",
    "        A_prev = A\n",
    "        A, cache = forward_activation_step(A_prev, parameters[\"W\" + str(l)], parameters[\"b\" + str(l)], \"relu\")\n",
    "        caches.append(cache)\n",
    "    \n",
    "    AL, cache = forward_activation_step(A, parameters[\"W\" + str(L)], parameters[\"b\" + str(L)], \"sigmoid\")\n",
    "    caches.append(cache)\n",
    "    \n",
    "    return AL, caches"
   ]
  },
  {
   "cell_type": "markdown",
   "metadata": {},
   "source": [
    "Computing the cost for the results predicted in the forward propagation step.\n",
    "\n",
    "The 1e-8 is used as good measure, so that we don't get to an unwanted log(0) case, which is undefined.\n",
    "\n",
    "Also, the cost uses L2 regularization, so that must be taken into account in the backprop phase"
   ]
  },
  {
   "cell_type": "code",
   "execution_count": 11,
   "metadata": {},
   "outputs": [],
   "source": [
    "def cost(Y, AL, params, lambd):\n",
    "    m = Y.shape[1]\n",
    "    L2_reg = 0\n",
    "    for param in params:\n",
    "        L2_reg += np.sum(params[param] ** 2)\n",
    "    \n",
    "    mycost = np.squeeze(-1/m * np.sum(Y * np.log(AL + 1e-8) + (1 - Y) * np.log(1 - AL + 1e-8)) + 1/(2 * m) * lambd * L2_reg)\n",
    "    return mycost "
   ]
  },
  {
   "cell_type": "markdown",
   "metadata": {},
   "source": [
    "Following functions are used by the backward model, which will do backprop on a whole batch\n",
    "\n",
    "This first function only computes the derivatives for the activations, weights, and biases with respect to the previous layer, using the chain rule. Also, notice how for the weights we derivate the cost still using the L2 regularization.\n",
    "\n",
    "This regularization is needed in case we overfit to our dataset, since the dataset isn't too large (only 890 examples), so with our neural network we really might overfit."
   ]
  },
  {
   "cell_type": "code",
   "execution_count": 12,
   "metadata": {},
   "outputs": [],
   "source": [
    "def backward_step(dZ, lambd, cache):\n",
    "    Z, A_prev, W, b = cache\n",
    "    m = A_prev.shape[1]\n",
    "    \n",
    "    dW = dZ.dot(A_prev.T) + lambd / m * W\n",
    "    db = np.sum(dZ, axis=1, keepdims=True)\n",
    "    dA_prev = W.T.dot(dZ)\n",
    "    \n",
    "    return dA_prev, dW, db"
   ]
  },
  {
   "cell_type": "markdown",
   "metadata": {},
   "source": [
    "This function takes into account the activation function used by the layer to first compute the derivative of a layer with respect to it's previous layers' activation, and then calls on \"backward_step\""
   ]
  },
  {
   "cell_type": "code",
   "execution_count": 13,
   "metadata": {},
   "outputs": [],
   "source": [
    "def backward_activation_step(dA, cache, lambd, activation: str):\n",
    "    Z, A_prev, W, b = cache\n",
    "    \n",
    "    if activation == \"sigmoid\":\n",
    "        dZ = sigmoid_grad(dA, Z)\n",
    "    else: \n",
    "        dZ = relu_grad(dA, Z)\n",
    "    \n",
    "    dA_prev, dW, db = backward_step(dZ, lambd, cache)\n",
    "    return dW, db, dA_prev"
   ]
  },
  {
   "cell_type": "markdown",
   "metadata": {},
   "source": [
    "### Modeling backprop for a whole batch"
   ]
  },
  {
   "cell_type": "code",
   "execution_count": 14,
   "metadata": {},
   "outputs": [],
   "source": [
    "def backward_model(AL, Y, caches, lambd):\n",
    "    \n",
    "    m = Y.shape[1]\n",
    "    grads = {}\n",
    "    L = len(caches)\n",
    "    current_cache = caches[L - 1]\n",
    "    \n",
    "    dAL = -1/m * (np.divide(Y, AL + 1e-8) - np.divide(1 - Y, 1 - AL + 1e-8))\n",
    "    grads[\"dW\" + str(L)], grads[\"db\" + str(L)], grads[\"dA\" + str(L - 1)] = backward_activation_step(dAL, current_cache, lambd, \"sigmoid\")\n",
    "    \n",
    "    for l in reversed(range(L - 1)):\n",
    "        current_cache = caches[l]\n",
    "        grads[\"dW\" + str(l + 1)], grads[\"db\" + str(l + 1)], grads[\"dA\" + str(l)] = backward_activation_step(grads[\"dA\" + str(l + 1)],\n",
    "                                                                                                        current_cache, lambd, \"relu\")\n",
    "        \n",
    "    return grads\n",
    "    "
   ]
  },
  {
   "cell_type": "markdown",
   "metadata": {},
   "source": [
    "### The following function is used to update the parameters. It uses the Adam algorithm, which combines the ideas of RMSProp and Momentum into one beautiful algorithm, that converges really fast!\n",
    "\n",
    "The idea it works by is that by keeping exponentially weighted averages for the gradients and squared gradients, it can cancel out the effects of non normalized data, which would make convergence slow by oscillating in some direction(s) instead of focusing on going towards the minimum. This can indeed speed up convergence, by a lot!"
   ]
  },
  {
   "cell_type": "code",
   "execution_count": 15,
   "metadata": {},
   "outputs": [],
   "source": [
    "def update_params(params, grads, alpha, v, s, t, Beta1, Beta2):\n",
    "    L = len(params) // 2\n",
    "    \n",
    "    for l in range(1, L + 1):\n",
    "        v[\"dW\" + str(l)] = Beta1 * v[\"dW\" + str(l)] + (1 - Beta1) * grads[\"dW\" + str(l)]\n",
    "        v[\"db\" + str(l)] = Beta1 * v[\"db\" + str(l)] + (1 - Beta1) * grads[\"db\" + str(l)]\n",
    "        s[\"dW\" + str(l)] = Beta2 * s[\"dW\" + str(l)] + (1 - Beta2) * (grads[\"dW\" + str(l)] ** 2)\n",
    "        s[\"db\" + str(l)] = Beta2 * s[\"db\" + str(l)] + (1 - Beta2) * (grads[\"db\" + str(l)] ** 2)\n",
    "        v_corrected = {}\n",
    "        s_corrected = {}\n",
    "        v_corrected[\"dW\"] = v[\"dW\" + str(l)] / (1 + Beta1 ** t)\n",
    "        v_corrected[\"db\"] = v[\"db\" + str(l)] / (1 + Beta1 ** t)\n",
    "        s_corrected[\"dW\"] = s[\"dW\" + str(l)] / (1 + Beta2 ** t)\n",
    "        s_corrected[\"db\"] = s[\"db\" + str(l)] / (1 + Beta2 ** t)\n",
    "        params[\"W\" + str(l)] -= alpha * v_corrected[\"dW\"] / np.sqrt(s_corrected[\"dW\"] + 1e-8)\n",
    "        params[\"b\" + str(l)] -= alpha * v_corrected[\"db\"] / np.sqrt(s_corrected[\"db\"] + 1e-8)\n",
    "    \n",
    "    return params\n",
    "        "
   ]
  },
  {
   "cell_type": "markdown",
   "metadata": {},
   "source": [
    "Here we must initialize the exponentially weighted averages for the Adam algorithm"
   ]
  },
  {
   "cell_type": "code",
   "execution_count": 16,
   "metadata": {},
   "outputs": [],
   "source": [
    "def initialize_adam(params):\n",
    "\n",
    "    L = len(params) // 2\n",
    "    v = {}\n",
    "    s = {}\n",
    "    for l in range(L):\n",
    "        v[\"dW\" + str(l + 1)] = np.zeros(params[\"W\" + str(l + 1)].shape)\n",
    "        v[\"db\" + str(l + 1)] = np.zeros(params[\"b\" + str(l + 1)].shape)\n",
    "        s[\"dW\" + str(l + 1)] = np.zeros(params[\"W\" + str(l + 1)].shape)\n",
    "        s[\"db\" + str(l + 1)] = np.zeros(params[\"b\" + str(l + 1)].shape)\n",
    "\n",
    "    return v, s\n"
   ]
  },
  {
   "cell_type": "markdown",
   "metadata": {},
   "source": [
    "This is a helper function for taking mini-batches, in case it's needed"
   ]
  },
  {
   "cell_type": "code",
   "execution_count": 17,
   "metadata": {},
   "outputs": [],
   "source": [
    "def random_mini_batches(X, Y, mini_batch_size=64):\n",
    "\n",
    "    m = X.shape[1]\n",
    "    mini_batches = []\n",
    "\n",
    "    permutation = list(np.random.permutation(m))\n",
    "    shuffled_X = X[:, permutation]\n",
    "    shuffled_Y = Y[:, permutation].reshape((1, m))\n",
    "\n",
    "    num_complete_minibatches = math.floor(m / mini_batch_size)\n",
    "    k = 0\n",
    "    while k < num_complete_minibatches:\n",
    "        mini_batch_X = shuffled_X[:, k * mini_batch_size: (k + 1) * mini_batch_size]\n",
    "        mini_batch_Y = shuffled_Y[:, k * mini_batch_size: (k + 1) * mini_batch_size]\n",
    "        mini_batch = (mini_batch_X, mini_batch_Y)\n",
    "        mini_batches.append(mini_batch)\n",
    "        k += 1\n",
    "\n",
    "    if m % mini_batch_size != 0:\n",
    "        mini_batch_X = shuffled_X[:, k * mini_batch_size:m]\n",
    "        mini_batch_Y = shuffled_Y[:, k * mini_batch_size:m]\n",
    "        mini_batch = (mini_batch_X, mini_batch_Y)\n",
    "        mini_batches.append(mini_batch)\n",
    "\n",
    "    return mini_batches"
   ]
  },
  {
   "cell_type": "markdown",
   "metadata": {},
   "source": [
    "### This is the main loop of the whole algorithm\n",
    "\n",
    "Using the functions defined above (initializers, taking mini_batches, forward-backward models, cost function and the update function) we can finally make our iterations! It's such a basic idea now, that it only takes a few lines to implement!"
   ]
  },
  {
   "cell_type": "code",
   "execution_count": 18,
   "metadata": {},
   "outputs": [],
   "source": [
    "def adam_gd(X, Y, params, num_epochs=10000, batch_size=128, alpha=0.0001, lambd=0, Beta1=0.9, Beta2=0.999):\n",
    "    \n",
    "    costs = []\n",
    "    m = X.shape[1]\n",
    "    v, s = initialize_adam(params)\n",
    "    t = 0\n",
    "    \n",
    "    for i in range(num_epochs):\n",
    "        \n",
    "        mini_batches = random_mini_batches(X, Y, batch_size)\n",
    "        \n",
    "        for mini_batch in mini_batches:\n",
    "            \n",
    "            (X_mini, Y_mini) = mini_batch\n",
    "            \n",
    "            cost_total = 0\n",
    "            AL, caches = forward_model(X_mini, params)\n",
    "            cost_total += cost(Y_mini, AL, params, lambd)\n",
    "            grads = backward_model(AL, Y_mini, caches, lambd)\n",
    "            t += 1\n",
    "            params = update_params(params, grads, alpha, v, s, t, Beta1, Beta2)\n",
    "\n",
    "        if i % 1000 == 0:\n",
    "            print(\"Epoch %d, cost: %.10f\" % (i, cost_total/m))\n",
    "            costs.append(cost_total/m)\n",
    "        \n",
    "        if i == 6000:\n",
    "            alpha /= 2\n",
    "\n",
    "    return params, costs\n",
    "    "
   ]
  },
  {
   "cell_type": "markdown",
   "metadata": {},
   "source": [
    "Helper function to compute the predictions for submission purposes"
   ]
  },
  {
   "cell_type": "code",
   "execution_count": 19,
   "metadata": {},
   "outputs": [],
   "source": [
    "def prediction(X, params):\n",
    "    AL, cache = forward_model(X, params)\n",
    "    return AL >= 0.5"
   ]
  },
  {
   "cell_type": "markdown",
   "metadata": {},
   "source": [
    "Function used to process the cross validation and test data"
   ]
  },
  {
   "cell_type": "code",
   "execution_count": 20,
   "metadata": {},
   "outputs": [],
   "source": [
    "def process_test_data(data):\n",
    "    data = data.drop([\"Cabin\", \"Ticket\", \"PassengerId\"], axis=1)\n",
    "    data[\"Sex\"] = (data[\"Sex\"] == \"male\").astype(int)\n",
    "    for index, value in data[\"Embarked\"].iteritems():\n",
    "        if value == \"S\":\n",
    "            data.loc[index, \"Embarked\"] = 1\n",
    "        elif value == \"C\":\n",
    "            data.loc[index, \"Embarked\"] = 2\n",
    "        elif value == \"Q\":\n",
    "            data.loc[index, \"Embarked\"] = 3\n",
    "        else:\n",
    "            data.loc[index, \"Embarked\"] = 2\n",
    "    \n",
    "    data[\"Age\"] = data[\"Age\"].fillna(data[\"Age\"].median())\n",
    "    data[\"Fare\"] = data[\"Fare\"].fillna(data[\"Fare\"].median())\n",
    "    \n",
    "    data['Age_bin'] = pd.cut(data['Age'], bins=[0,10,18,35,120], labels=['Children','Teenage','Adult','Elder'])\n",
    "    data['Fare_bin'] = pd.cut(data['Fare'], bins=[0,7.91,14.45,31,120], labels=['Low_fare','median_fare','Average_fare','high_fare'])\n",
    "\n",
    "    data[\"SibSp\"].fillna(data[\"SibSp\"].mean(skipna=True))\n",
    "    data[\"Parch\"].fillna(data[\"Parch\"].mean(skipna=True))\n",
    "    data[\"FamilySize\"] = data[\"SibSp\"] + data[\"Parch\"] + 1\n",
    "    data[\"Title\"] = data[\"Name\"].apply(get_title)\n",
    "    \n",
    "    data[\"Title\"] = data[\"Title\"].replace([\"Lady\", \"Countess\", \"Sir\", \"Jonkheer\", \"Dona\", \"Don\"], \"Important\")\n",
    "    data[\"Title\"] = data[\"Title\"].replace([\"Capt\", \"Col\", \"Dr\", \"Major\", \"Rev\"], \"Officer\")    \n",
    "    data[\"Title\"] = data[\"Title\"].replace(\"Mlle\", \"Miss\")\n",
    "    data[\"Title\"] = data[\"Title\"].replace(\"Ms\", \"Miss\")\n",
    "    data[\"Title\"] = data[\"Title\"].replace(\"Mme\", \"Mrs\")\n",
    "    data = pd.get_dummies(data, columns=[\"Pclass\", \"Age_bin\", \"Fare_bin\", \"Title\"])\n",
    "    data = data.drop([\"Name\", \"SibSp\", \"Parch\", \"Age\", \"Fare\"], axis=1)\n",
    "    \n",
    "    if \"Survived\" in data.columns:\n",
    "        data = data.drop([\"Survived\"], axis=1)\n",
    "    \n",
    "    return np.array(data)"
   ]
  },
  {
   "cell_type": "markdown",
   "metadata": {},
   "source": [
    "Getting the cross validation labels"
   ]
  },
  {
   "cell_type": "code",
   "execution_count": 21,
   "metadata": {},
   "outputs": [],
   "source": [
    "def get_cv_labels(data):\n",
    "    return np.array(data[\"Survived\"])"
   ]
  },
  {
   "cell_type": "markdown",
   "metadata": {},
   "source": [
    "Here, we can finally make our computation. The best settings i found by tuning to the cross validation were a 2 layers network, with 15 hidden units, training with no regularization,  for 12000 epochs, a learning rate of 0.0001 (denoted by alpha), no changes for the exponentially weighted averages (B1=0.9, B2=0.999), and a batch size of 256 (just took powers of 2). These settings managed to get me a cross validation accuracy of 86% and a test accuracy of 78%, which pushed me into the top 20% of the Titanic competition on kaggle! \n",
    "\n",
    "Also, you may have to run it twice sometimes, because by randomizing the train data sometimes yields some problems, such as not having any example with a certain title in the cross validation, and thus missmatching a column. It's a rare enough problem that i could just skip fixing it, as the program runs really fast anyways."
   ]
  },
  {
   "cell_type": "code",
   "execution_count": 22,
   "metadata": {},
   "outputs": [
    {
     "name": "stdout",
     "output_type": "stream",
     "text": [
      "Epoch 0, cost: 0.0009640726\n",
      "Epoch 1000, cost: 0.0005839055\n",
      "Epoch 2000, cost: 0.0005534101\n",
      "Epoch 3000, cost: 0.0005361884\n",
      "Epoch 4000, cost: 0.0005184654\n",
      "Epoch 5000, cost: 0.0005042295\n",
      "Epoch 6000, cost: 0.0004906737\n",
      "86.0 82.10526315789474\n",
      "Saved file: Titanic Predictions 1.csv\n"
     ]
    }
   ],
   "source": [
    "layers_dims = [X.shape[0], 15, 1]\n",
    "params = init_params(layers_dims)\n",
    "X = X.astype(float)\n",
    "\n",
    "test = pd.read_csv(\"input/test.csv\")\n",
    "Xcv = process_test_data(data_cv)\n",
    "Xcv = Xcv.T.astype(float)\n",
    "Ycv = get_cv_labels(data_cv)\n",
    "\n",
    "Xtest = process_test_data(test)\n",
    "Xtest = Xtest.T.astype(float)\n",
    "\n",
    "params = init_params(layers_dims)\n",
    "good_params, costs = adam_gd(X, Y, params, num_epochs = 7000, alpha=0.0001, lambd=0.0000001, batch_size = X.shape[1])\n",
    "\n",
    "x_prediction = np.sum(prediction(X, good_params).astype(int) == Y) / X.shape[1] * 100\n",
    "cv_prediction = np.sum(prediction(Xcv, good_params).astype(int) == Ycv) / Xcv.shape[1] * 100\n",
    "print(x_prediction, cv_prediction)\n",
    "survived = prediction(Xtest, good_params).astype(int).reshape(Xtest.shape[1]).tolist()\n",
    "\n",
    "test = pd.read_csv(\"input/test.csv\")\n",
    "submission = pd.DataFrame({'PassengerId':test['PassengerId'],'Survived':survived})\n",
    "\n",
    "filename = 'Titanic Predictions 1.csv'\n",
    "\n",
    "submission.to_csv(filename,index=False)\n",
    "\n",
    "print('Saved file: ' + filename)"
   ]
  },
  {
   "cell_type": "code",
   "execution_count": null,
   "metadata": {},
   "outputs": [],
   "source": []
  }
 ],
 "metadata": {
  "kernelspec": {
   "display_name": "Python 3",
   "language": "python",
   "name": "python3"
  },
  "language_info": {
   "codemirror_mode": {
    "name": "ipython",
    "version": 3
   },
   "file_extension": ".py",
   "mimetype": "text/x-python",
   "name": "python",
   "nbconvert_exporter": "python",
   "pygments_lexer": "ipython3",
   "version": "3.8.4"
  }
 },
 "nbformat": 4,
 "nbformat_minor": 4
}
